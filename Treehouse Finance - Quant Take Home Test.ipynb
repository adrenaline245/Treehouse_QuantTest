{
 "cells": [
  {
   "cell_type": "code",
   "execution_count": 1,
   "id": "f2760241",
   "metadata": {},
   "outputs": [],
   "source": [
    "import pandas as pd\n",
    "import numpy as np\n",
    "import math"
   ]
  },
  {
   "cell_type": "markdown",
   "id": "373c5e0c",
   "metadata": {},
   "source": [
    "### Question 1 ###"
   ]
  },
  {
   "cell_type": "code",
   "execution_count": null,
   "id": "4c5137b6",
   "metadata": {},
   "outputs": [],
   "source": [
    "CREATE DATABASE Q1\n",
    "\n",
    "CREATE TABLE Q1.Quant1(\n",
    "    ID int NOT NULL PRIMARY KEY,\n",
    "    Name varchar(255) NOT NULL,\n",
    "    Salary float(255) NOT NULL,\n",
    "    Manager_id int\n",
    ")\n",
    "\n",
    "INSERT INTO Quant1\n",
    "VALUES(1, 'John', 300, 3),\n",
    "(2, 'Mike', 200, 3),\n",
    "(3, 'Sally', 550, 4),\n",
    "(4, 'Jane', 500, 7),\n",
    "(5, 'Joe', 600, 7),\n",
    "(6, 'Dan', 600, 3),\n",
    "(7, 'Phil', 550, NULL);"
   ]
  },
  {
   "cell_type": "code",
   "execution_count": null,
   "id": "581ae156",
   "metadata": {},
   "outputs": [],
   "source": [
    "-- 1. Give the name of employees, whose salaries are greater than their immediate manager’s\n",
    "SELECT quant1.id, quant1.Name\n",
    "FROM quant1\n",
    "LEFT JOIN \n",
    "\t(SELECT Salary AS manager_salary, id\n",
    "\tFROM quant1) quant2\n",
    "ON quant1.manager_id= quant2.id\n",
    "WHERE quant1.Salary > quant2.manager_salary;"
   ]
  },
  {
   "cell_type": "markdown",
   "id": "d3063e10",
   "metadata": {},
   "source": [
    "### Question 2 ###"
   ]
  },
  {
   "cell_type": "code",
   "execution_count": 60,
   "id": "f086db0b",
   "metadata": {},
   "outputs": [
    {
     "name": "stdout",
     "output_type": "stream",
     "text": [
      "5\n",
      "False\n"
     ]
    }
   ],
   "source": [
    "#Python doesn't have a specific function to test whether a variable is defined, \n",
    "#since all variables are expected to have been defined before use, even if initially assigned the None object.\n",
    "N = 5\n",
    "try:\n",
    "    print(N)\n",
    "    print(b)\n",
    "    print(True)\n",
    "except NameError:\n",
    "    print(False)"
   ]
  },
  {
   "cell_type": "markdown",
   "id": "cafbb91d",
   "metadata": {},
   "source": [
    "### Question 3 ###"
   ]
  },
  {
   "cell_type": "code",
   "execution_count": 61,
   "id": "d7b5f237",
   "metadata": {},
   "outputs": [],
   "source": [
    "def pascal(N):\n",
    "    pascal = [[1], [1,1]]\n",
    "    if N == 1:\n",
    "        print(1)\n",
    "    else:\n",
    "        for i in range(1,N-1):\n",
    "            ans = [1]\n",
    "            for j in range(len(pascal[i])-1):\n",
    "                ans.append(pascal[i][j] + pascal[i][j+1])\n",
    "            ans.append(1)\n",
    "            pascal.append(ans)\n",
    "        for i in pascal:\n",
    "            print(*i, sep = \" \") \n",
    "\n",
    "# def pascal_triangle(N):\n",
    "#     def nextline(l):\n",
    "#         ans = [1]\n",
    "#         for i in range(len(l)-1):\n",
    "#             ans.append(l[i] + l[i+1])\n",
    "#         ans.append(1)\n",
    "#         #print(*ans, sep=\" \")\n",
    "#         return ans\n",
    "#     pascal = [[1], [1,1]]\n",
    "#     if N == 1:\n",
    "#         print(1)\n",
    "#     else:\n",
    "#         for i in range(1,N-1):\n",
    "#             pascal.append(nextline(pascal[i]))\n",
    "#         for i in pascal:\n",
    "#             print(*i,sep=\" \")"
   ]
  },
  {
   "cell_type": "code",
   "execution_count": 63,
   "id": "a416a197",
   "metadata": {},
   "outputs": [
    {
     "name": "stdout",
     "output_type": "stream",
     "text": [
      "1\n",
      "1 1\n",
      "1 2 1\n",
      "1 3 3 1\n",
      "1 4 6 4 1\n"
     ]
    }
   ],
   "source": [
    "pascal(5)"
   ]
  },
  {
   "cell_type": "markdown",
   "id": "f95ca4b1",
   "metadata": {},
   "source": [
    "### Question 4 ###"
   ]
  },
  {
   "cell_type": "code",
   "execution_count": null,
   "id": "e55cda7e",
   "metadata": {},
   "outputs": [],
   "source": []
  },
  {
   "cell_type": "markdown",
   "id": "93a6130d",
   "metadata": {},
   "source": [
    "### Question 5 ###"
   ]
  },
  {
   "cell_type": "code",
   "execution_count": null,
   "id": "d6e29d33",
   "metadata": {},
   "outputs": [],
   "source": [
    "#How many python files\n",
    "cd /g/my-python-project\n",
    "git ls-files \"./*.py\" | wc - l\n"
   ]
  },
  {
   "cell_type": "code",
   "execution_count": null,
   "id": "959e88d8",
   "metadata": {},
   "outputs": [],
   "source": [
    "#How many lines of code in total, how many lines of comment line (empty line doesn’t count)\n",
    "git ls-files -z | xargs -0 wc -l\n"
   ]
  },
  {
   "cell_type": "code",
   "execution_count": null,
   "id": "531d5187",
   "metadata": {},
   "outputs": [],
   "source": [
    "#How many functions is defined in total\n",
    "git grep -c \"def \"\n"
   ]
  },
  {
   "cell_type": "code",
   "execution_count": null,
   "id": "fdae1148",
   "metadata": {},
   "outputs": [],
   "source": [
    "#total folder size\n"
   ]
  },
  {
   "cell_type": "markdown",
   "id": "e1255631",
   "metadata": {},
   "source": [
    "### Question 6 ###"
   ]
  },
  {
   "cell_type": "code",
   "execution_count": null,
   "id": "2d8b8e14",
   "metadata": {},
   "outputs": [],
   "source": []
  }
 ],
 "metadata": {
  "kernelspec": {
   "display_name": "Python 3 (ipykernel)",
   "language": "python",
   "name": "python3"
  },
  "language_info": {
   "codemirror_mode": {
    "name": "ipython",
    "version": 3
   },
   "file_extension": ".py",
   "mimetype": "text/x-python",
   "name": "python",
   "nbconvert_exporter": "python",
   "pygments_lexer": "ipython3",
   "version": "3.8.8"
  }
 },
 "nbformat": 4,
 "nbformat_minor": 5
}
