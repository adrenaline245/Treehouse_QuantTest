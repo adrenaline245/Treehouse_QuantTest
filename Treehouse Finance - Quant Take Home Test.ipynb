{
 "cells": [
  {
   "cell_type": "code",
   "execution_count": 1,
   "id": "f2760241",
   "metadata": {},
   "outputs": [],
   "source": [
    "import pandas as pd\n",
    "import numpy as np\n",
    "import math"
   ]
  },
  {
   "cell_type": "code",
   "execution_count": 2,
   "id": "f3b6b677",
   "metadata": {},
   "outputs": [],
   "source": [
    "def calc(N): #no. of ways to exchange the currencies\n",
    "    sumfac = 0\n",
    "    for i in range(N-1):\n",
    "        sumfac += math.factorial(N-2) / math.factorial(i)\n",
    "    return sumfac"
   ]
  },
  {
   "cell_type": "code",
   "execution_count": 3,
   "id": "c2a49e5c",
   "metadata": {},
   "outputs": [
    {
     "data": {
      "text/plain": [
       "5.0"
      ]
     },
     "execution_count": 3,
     "metadata": {},
     "output_type": "execute_result"
    }
   ],
   "source": [
    "calc(4)"
   ]
  },
  {
   "cell_type": "markdown",
   "id": "373c5e0c",
   "metadata": {},
   "source": [
    "### Question 1 ###"
   ]
  },
  {
   "cell_type": "markdown",
   "id": "d3063e10",
   "metadata": {},
   "source": [
    "### Question 2 ###"
   ]
  },
  {
   "cell_type": "code",
   "execution_count": 5,
   "id": "f92f8391",
   "metadata": {},
   "outputs": [],
   "source": [
    "def exists(v):\n",
    "    if 'v' in locals():\n",
    "        return True\n",
    "    elif 'v' in globals():\n",
    "        return True\n",
    "    else:\n",
    "        return False\n",
    "  # myVar exists."
   ]
  },
  {
   "cell_type": "code",
   "execution_count": 6,
   "id": "a08b15ff",
   "metadata": {},
   "outputs": [
    {
     "ename": "NameError",
     "evalue": "name 'b' is not defined",
     "output_type": "error",
     "traceback": [
      "\u001b[1;31m---------------------------------------------------------------------------\u001b[0m",
      "\u001b[1;31mNameError\u001b[0m                                 Traceback (most recent call last)",
      "\u001b[1;32m~\\AppData\\Local\\Temp/ipykernel_3912/1893983719.py\u001b[0m in \u001b[0;36m<module>\u001b[1;34m\u001b[0m\n\u001b[1;32m----> 1\u001b[1;33m \u001b[0mexists\u001b[0m\u001b[1;33m(\u001b[0m\u001b[0mb\u001b[0m\u001b[1;33m)\u001b[0m\u001b[1;33m\u001b[0m\u001b[1;33m\u001b[0m\u001b[0m\n\u001b[0m",
      "\u001b[1;31mNameError\u001b[0m: name 'b' is not defined"
     ]
    }
   ],
   "source": [
    "exists(b)"
   ]
  },
  {
   "cell_type": "code",
   "execution_count": 7,
   "id": "b707cb55",
   "metadata": {},
   "outputs": [],
   "source": [
    "a = 1"
   ]
  },
  {
   "cell_type": "markdown",
   "id": "cafbb91d",
   "metadata": {},
   "source": [
    "### Question 3 ###"
   ]
  },
  {
   "cell_type": "code",
   "execution_count": 11,
   "id": "d7b5f237",
   "metadata": {},
   "outputs": [],
   "source": [
    "def pascal(N):\n",
    "    pascal = [[1], [1,1]]\n",
    "    if N == 1:\n",
    "        print(1)\n",
    "    else:\n",
    "        for i in range(1,N-1):\n",
    "            ans = [1]\n",
    "            for j in range(len(pascal[i])-1):\n",
    "                ans.append(pascal[i][j] + pascal[i][j+1])\n",
    "            ans.append(1)\n",
    "            pascal.append(ans)\n",
    "        for i in pascal:\n",
    "            print(*i, sep = \" \") \n",
    "\n",
    "# def pascal_triangle(N):\n",
    "#     def nextline(l):\n",
    "#         ans = [1]\n",
    "#         for i in range(len(l)-1):\n",
    "#             ans.append(l[i] + l[i+1])\n",
    "#         ans.append(1)\n",
    "#         #print(*ans, sep=\" \")\n",
    "#         return ans\n",
    "#     pascal = [[1], [1,1]]\n",
    "#     if N == 1:\n",
    "#         print(1)\n",
    "#     else:\n",
    "#         for i in range(1,N-1):\n",
    "#             pascal.append(nextline(pascal[i]))\n",
    "#         for i in pascal:\n",
    "#             print(*i,sep=\" \")"
   ]
  },
  {
   "cell_type": "markdown",
   "id": "f95ca4b1",
   "metadata": {},
   "source": [
    "### Question 4 ###"
   ]
  },
  {
   "cell_type": "code",
   "execution_count": null,
   "id": "e55cda7e",
   "metadata": {},
   "outputs": [],
   "source": []
  },
  {
   "cell_type": "markdown",
   "id": "93a6130d",
   "metadata": {},
   "source": [
    "### Question 5 ###"
   ]
  },
  {
   "cell_type": "code",
   "execution_count": 12,
   "id": "be3550f5",
   "metadata": {},
   "outputs": [
    {
     "ename": "SyntaxError",
     "evalue": "invalid syntax (Temp/ipykernel_3912/2845812811.py, line 2)",
     "output_type": "error",
     "traceback": [
      "\u001b[1;36m  File \u001b[1;32m\"C:\\Users\\Admin\\AppData\\Local\\Temp/ipykernel_3912/2845812811.py\"\u001b[1;36m, line \u001b[1;32m2\u001b[0m\n\u001b[1;33m    git ls-files \"./*.py\" | wc -l\u001b[0m\n\u001b[1;37m        ^\u001b[0m\n\u001b[1;31mSyntaxError\u001b[0m\u001b[1;31m:\u001b[0m invalid syntax\n"
     ]
    }
   ],
   "source": [
    "#How many python files\n",
    "git ls-files \"./*.py\" | wc -l"
   ]
  },
  {
   "cell_type": "markdown",
   "id": "e1255631",
   "metadata": {},
   "source": [
    "### Question 6 ###"
   ]
  },
  {
   "cell_type": "code",
   "execution_count": null,
   "id": "2d8b8e14",
   "metadata": {},
   "outputs": [],
   "source": []
  }
 ],
 "metadata": {
  "kernelspec": {
   "display_name": "Python 3 (ipykernel)",
   "language": "python",
   "name": "python3"
  },
  "language_info": {
   "codemirror_mode": {
    "name": "ipython",
    "version": 3
   },
   "file_extension": ".py",
   "mimetype": "text/x-python",
   "name": "python",
   "nbconvert_exporter": "python",
   "pygments_lexer": "ipython3",
   "version": "3.8.8"
  }
 },
 "nbformat": 4,
 "nbformat_minor": 5
}
