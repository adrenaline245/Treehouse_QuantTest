{
 "cells": [
  {
   "cell_type": "code",
   "execution_count": 1,
   "id": "f2760241",
   "metadata": {},
   "outputs": [],
   "source": [
    "import pandas as pd\n",
    "import numpy as np\n",
    "import math"
   ]
  },
  {
   "cell_type": "markdown",
   "id": "373c5e0c",
   "metadata": {},
   "source": [
    "### Question 1 ###"
   ]
  },
  {
   "cell_type": "code",
   "execution_count": null,
   "id": "581ae156",
   "metadata": {},
   "outputs": [],
   "source": []
  },
  {
   "cell_type": "markdown",
   "id": "d3063e10",
   "metadata": {},
   "source": [
    "### Question 2 ###"
   ]
  },
  {
   "cell_type": "code",
   "execution_count": 4,
   "id": "f92f8391",
   "metadata": {},
   "outputs": [],
   "source": [
    "def exists(v):\n",
    "    if 'v' in locals():\n",
    "        return True\n",
    "    elif 'v' in globals():\n",
    "        return True\n",
    "    else:\n",
    "        return False\n",
    "  # myVar exists."
   ]
  },
  {
   "cell_type": "code",
   "execution_count": 5,
   "id": "a08b15ff",
   "metadata": {},
   "outputs": [
    {
     "ename": "NameError",
     "evalue": "name 'b' is not defined",
     "output_type": "error",
     "traceback": [
      "\u001b[1;31m---------------------------------------------------------------------------\u001b[0m",
      "\u001b[1;31mNameError\u001b[0m                                 Traceback (most recent call last)",
      "\u001b[1;32m~\\AppData\\Local\\Temp/ipykernel_37892/1893983719.py\u001b[0m in \u001b[0;36m<module>\u001b[1;34m\u001b[0m\n\u001b[1;32m----> 1\u001b[1;33m \u001b[0mexists\u001b[0m\u001b[1;33m(\u001b[0m\u001b[0mb\u001b[0m\u001b[1;33m)\u001b[0m\u001b[1;33m\u001b[0m\u001b[1;33m\u001b[0m\u001b[0m\n\u001b[0m",
      "\u001b[1;31mNameError\u001b[0m: name 'b' is not defined"
     ]
    }
   ],
   "source": [
    "exists(b)"
   ]
  },
  {
   "cell_type": "code",
   "execution_count": 6,
   "id": "b707cb55",
   "metadata": {},
   "outputs": [],
   "source": [
    "a = 1"
   ]
  },
  {
   "cell_type": "markdown",
   "id": "cafbb91d",
   "metadata": {},
   "source": [
    "### Question 3 ###"
   ]
  },
  {
   "cell_type": "code",
   "execution_count": 8,
   "id": "d7b5f237",
   "metadata": {},
   "outputs": [],
   "source": [
    "def pascal(N):\n",
    "    pascal = [[1], [1,1]]\n",
    "    if N == 1:\n",
    "        print(1)\n",
    "    else:\n",
    "        for i in range(1,N-1):\n",
    "            ans = [1]\n",
    "            for j in range(len(pascal[i])-1):\n",
    "                ans.append(pascal[i][j] + pascal[i][j+1])\n",
    "            ans.append(1)\n",
    "            pascal.append(ans)\n",
    "        for i in pascal:\n",
    "            print(*i, sep = \" \") \n",
    "\n",
    "# def pascal_triangle(N):\n",
    "#     def nextline(l):\n",
    "#         ans = [1]\n",
    "#         for i in range(len(l)-1):\n",
    "#             ans.append(l[i] + l[i+1])\n",
    "#         ans.append(1)\n",
    "#         #print(*ans, sep=\" \")\n",
    "#         return ans\n",
    "#     pascal = [[1], [1,1]]\n",
    "#     if N == 1:\n",
    "#         print(1)\n",
    "#     else:\n",
    "#         for i in range(1,N-1):\n",
    "#             pascal.append(nextline(pascal[i]))\n",
    "#         for i in pascal:\n",
    "#             print(*i,sep=\" \")"
   ]
  },
  {
   "cell_type": "markdown",
   "id": "f95ca4b1",
   "metadata": {},
   "source": [
    "### Question 4 ###"
   ]
  },
  {
   "cell_type": "code",
   "execution_count": null,
   "id": "e55cda7e",
   "metadata": {},
   "outputs": [],
   "source": []
  },
  {
   "cell_type": "markdown",
   "id": "93a6130d",
   "metadata": {},
   "source": [
    "### Question 5 ###"
   ]
  },
  {
   "cell_type": "code",
   "execution_count": null,
   "id": "d6e29d33",
   "metadata": {},
   "outputs": [],
   "source": [
    "#How many python files\n",
    "cd / g/my-python-project\n",
    "git ls-files \"./*.py\" | wc - l\n"
   ]
  },
  {
   "cell_type": "code",
   "execution_count": null,
   "id": "959e88d8",
   "metadata": {},
   "outputs": [],
   "source": [
    "#How many lines of code in total, how many lines of comment line (empty line doesn’t count)\n",
    "git ls-files -z | xargs -0 wc -l\n"
   ]
  },
  {
   "cell_type": "code",
   "execution_count": null,
   "id": "531d5187",
   "metadata": {},
   "outputs": [],
   "source": [
    "#How many functions is defined in total\n",
    "git grep -c \"def \"\n"
   ]
  },
  {
   "cell_type": "code",
   "execution_count": null,
   "id": "fdae1148",
   "metadata": {},
   "outputs": [],
   "source": [
    "#total folder size"
   ]
  },
  {
   "cell_type": "markdown",
   "id": "e1255631",
   "metadata": {},
   "source": [
    "### Question 6 ###"
   ]
  },
  {
   "cell_type": "code",
   "execution_count": null,
   "id": "2d8b8e14",
   "metadata": {},
   "outputs": [],
   "source": []
  }
 ],
 "metadata": {
  "kernelspec": {
   "display_name": "Python 3 (ipykernel)",
   "language": "python",
   "name": "python3"
  },
  "language_info": {
   "codemirror_mode": {
    "name": "ipython",
    "version": 3
   },
   "file_extension": ".py",
   "mimetype": "text/x-python",
   "name": "python",
   "nbconvert_exporter": "python",
   "pygments_lexer": "ipython3",
   "version": "3.8.8"
  }
 },
 "nbformat": 4,
 "nbformat_minor": 5
}
